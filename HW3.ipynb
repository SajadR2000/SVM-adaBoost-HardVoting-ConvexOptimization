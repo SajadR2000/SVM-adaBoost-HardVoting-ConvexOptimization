{
 "cells": [
  {
   "cell_type": "markdown",
   "metadata": {
    "toc": true
   },
   "source": [
    "<h1>Table of Contents<span class=\"tocSkip\"></span></h1>\n",
    "<div class=\"toc\"><ul class=\"toc-item\"><li><span><a href=\"#Part-1-Data-Preprocessing\" data-toc-modified-id=\"Part-1-Data-Preprocessing-1\"><span class=\"toc-item-num\">1&nbsp;&nbsp;</span>Part 1 Data Preprocessing</a></span></li><li><span><a href=\"#Part-2-Graphs\" data-toc-modified-id=\"Part-2-Graphs-2\"><span class=\"toc-item-num\">2&nbsp;&nbsp;</span>Part 2 Graphs</a></span></li><li><span><a href=\"#Part-3-AdaBoost\" data-toc-modified-id=\"Part-3-AdaBoost-3\"><span class=\"toc-item-num\">3&nbsp;&nbsp;</span>Part 3 AdaBoost</a></span></li><li><span><a href=\"#Part-4-(SVM)\" data-toc-modified-id=\"Part-4-(SVM)-4\"><span class=\"toc-item-num\">4&nbsp;&nbsp;</span>Part 4 (SVM)</a></span><ul class=\"toc-item\"><li><span><a href=\"#Plotting-Decision-Boundries\" data-toc-modified-id=\"Plotting-Decision-Boundries-4.1\"><span class=\"toc-item-num\">4.1&nbsp;&nbsp;</span>Plotting Decision Boundries</a></span></li><li><span><a href=\"#Hyperparameter-Tuning\" data-toc-modified-id=\"Hyperparameter-Tuning-4.2\"><span class=\"toc-item-num\">4.2&nbsp;&nbsp;</span>Hyperparameter Tuning</a></span></li><li><span><a href=\"#Hard-Voting-Classifiers\" data-toc-modified-id=\"Hard-Voting-Classifiers-4.3\"><span class=\"toc-item-num\">4.3&nbsp;&nbsp;</span>Hard Voting Classifiers</a></span></li><li><span><a href=\"#Convex-Optimization\" data-toc-modified-id=\"Convex-Optimization-4.4\"><span class=\"toc-item-num\">4.4&nbsp;&nbsp;</span>Convex Optimization</a></span></li></ul></li></ul></div>"
   ]
  },
  {
   "cell_type": "markdown",
   "metadata": {},
   "source": [
    "<font color=\"orange\" size=5>\n",
    "    Sajad Rahmanian \n",
    "    <br/>\n",
    "    97101683\n",
    "    <br />\n",
    "    PHW3\n",
    "</font>"
   ]
  },
  {
   "cell_type": "code",
   "execution_count": 1,
   "metadata": {},
   "outputs": [
    {
     "data": {
      "text/html": [
       "<div>\n",
       "<style scoped>\n",
       "    .dataframe tbody tr th:only-of-type {\n",
       "        vertical-align: middle;\n",
       "    }\n",
       "\n",
       "    .dataframe tbody tr th {\n",
       "        vertical-align: top;\n",
       "    }\n",
       "\n",
       "    .dataframe thead th {\n",
       "        text-align: right;\n",
       "    }\n",
       "</style>\n",
       "<table border=\"1\" class=\"dataframe\">\n",
       "  <thead>\n",
       "    <tr style=\"text-align: right;\">\n",
       "      <th></th>\n",
       "      <th>fixed acidity</th>\n",
       "      <th>volatile acidity</th>\n",
       "      <th>citric acid</th>\n",
       "      <th>residual sugar</th>\n",
       "      <th>chlorides</th>\n",
       "      <th>free sulfur dioxide</th>\n",
       "      <th>total sulfur dioxide</th>\n",
       "      <th>A Indx</th>\n",
       "      <th>density</th>\n",
       "      <th>pH</th>\n",
       "      <th>sulphates</th>\n",
       "      <th>Vit Indx</th>\n",
       "      <th>quality</th>\n",
       "      <th>Type</th>\n",
       "    </tr>\n",
       "  </thead>\n",
       "  <tbody>\n",
       "    <tr>\n",
       "      <th>0</th>\n",
       "      <td>5.9</td>\n",
       "      <td>0.32</td>\n",
       "      <td>0.39</td>\n",
       "      <td>low</td>\n",
       "      <td>0.114</td>\n",
       "      <td>24.0</td>\n",
       "      <td>140.0</td>\n",
       "      <td>13.905151</td>\n",
       "      <td>0.99340</td>\n",
       "      <td>3.09</td>\n",
       "      <td>low</td>\n",
       "      <td>very_low</td>\n",
       "      <td>high</td>\n",
       "      <td>Lemon_Juice</td>\n",
       "    </tr>\n",
       "    <tr>\n",
       "      <th>1</th>\n",
       "      <td>7.8</td>\n",
       "      <td>0.24</td>\n",
       "      <td>0.18</td>\n",
       "      <td>high</td>\n",
       "      <td>0.046</td>\n",
       "      <td>33.0</td>\n",
       "      <td>160.0</td>\n",
       "      <td>17.130070</td>\n",
       "      <td>0.99630</td>\n",
       "      <td>3.20</td>\n",
       "      <td>medium</td>\n",
       "      <td>low</td>\n",
       "      <td>high</td>\n",
       "      <td>Lemon_Juice</td>\n",
       "    </tr>\n",
       "    <tr>\n",
       "      <th>2</th>\n",
       "      <td>7.7</td>\n",
       "      <td>0.58</td>\n",
       "      <td>0.01</td>\n",
       "      <td>very_low</td>\n",
       "      <td>0.088</td>\n",
       "      <td>12.0</td>\n",
       "      <td>18.0</td>\n",
       "      <td>15.618966</td>\n",
       "      <td>0.99568</td>\n",
       "      <td>NaN</td>\n",
       "      <td>medium</td>\n",
       "      <td>low</td>\n",
       "      <td>high</td>\n",
       "      <td>Orange_Juice</td>\n",
       "    </tr>\n",
       "    <tr>\n",
       "      <th>3</th>\n",
       "      <td>8.3</td>\n",
       "      <td>0.18</td>\n",
       "      <td>0.30</td>\n",
       "      <td>very_low</td>\n",
       "      <td>0.033</td>\n",
       "      <td>20.0</td>\n",
       "      <td>57.0</td>\n",
       "      <td>18.085322</td>\n",
       "      <td>0.99109</td>\n",
       "      <td>3.02</td>\n",
       "      <td>medium</td>\n",
       "      <td>medium</td>\n",
       "      <td>high</td>\n",
       "      <td>Lemon_Juice</td>\n",
       "    </tr>\n",
       "    <tr>\n",
       "      <th>4</th>\n",
       "      <td>6.5</td>\n",
       "      <td>NaN</td>\n",
       "      <td>0.31</td>\n",
       "      <td>very_low</td>\n",
       "      <td>0.044</td>\n",
       "      <td>NaN</td>\n",
       "      <td>127.0</td>\n",
       "      <td>13.968160</td>\n",
       "      <td>0.99280</td>\n",
       "      <td>3.49</td>\n",
       "      <td>low</td>\n",
       "      <td>low</td>\n",
       "      <td>high</td>\n",
       "      <td>Lemon_Juice</td>\n",
       "    </tr>\n",
       "  </tbody>\n",
       "</table>\n",
       "</div>"
      ],
      "text/plain": [
       "   fixed acidity  volatile acidity  citric acid residual sugar  chlorides  \\\n",
       "0            5.9              0.32         0.39            low      0.114   \n",
       "1            7.8              0.24         0.18           high      0.046   \n",
       "2            7.7              0.58         0.01       very_low      0.088   \n",
       "3            8.3              0.18         0.30       very_low      0.033   \n",
       "4            6.5               NaN         0.31       very_low      0.044   \n",
       "\n",
       "   free sulfur dioxide  total sulfur dioxide     A Indx  density    pH  \\\n",
       "0                 24.0                 140.0  13.905151  0.99340  3.09   \n",
       "1                 33.0                 160.0  17.130070  0.99630  3.20   \n",
       "2                 12.0                  18.0  15.618966  0.99568   NaN   \n",
       "3                 20.0                  57.0  18.085322  0.99109  3.02   \n",
       "4                  NaN                 127.0  13.968160  0.99280  3.49   \n",
       "\n",
       "  sulphates  Vit Indx quality          Type  \n",
       "0       low  very_low    high   Lemon_Juice  \n",
       "1    medium       low    high   Lemon_Juice  \n",
       "2    medium       low    high  Orange_Juice  \n",
       "3    medium    medium    high   Lemon_Juice  \n",
       "4       low       low    high   Lemon_Juice  "
      ]
     },
     "execution_count": 1,
     "metadata": {},
     "output_type": "execute_result"
    }
   ],
   "source": [
    "import pandas as pd\n",
    "import numpy as np\n",
    "# Loading Data\n",
    "df = pd.read_csv(\"./JuiceQuality.csv\", index_col=0)\n",
    "df.head()"
   ]
  },
  {
   "cell_type": "markdown",
   "metadata": {
    "id": "is5_akaHKjqv"
   },
   "source": [
    "## Part 1 Data Preprocessing\n",
    "Replace all the nan values in \"PH\" feature using \"sulphates\" feature. "
   ]
  },
  {
   "cell_type": "markdown",
   "metadata": {},
   "source": [
    "<font color=\"orange\">\n",
    "    1. Filling null values of sulphates using its mode.\n",
    "    <br />\n",
    "    2. Filling null values of other columns using groupby sulphates('A Indx' and 'quality' are left for next parts).\n",
    "    <br />\n",
    "    3. Filling null values of categorical data with their mode.\n",
    "    <br />\n",
    "    4. Converting categorical data to numerical using One Hot method explained later('Vit Indx' and 'sulphates' are left for next parts)\n",
    "    <br />\n",
    "</font>"
   ]
  },
  {
   "cell_type": "code",
   "execution_count": 2,
   "metadata": {
    "id": "ZyMvXTDOLJ7b"
   },
   "outputs": [
    {
     "data": {
      "text/html": [
       "<div>\n",
       "<style scoped>\n",
       "    .dataframe tbody tr th:only-of-type {\n",
       "        vertical-align: middle;\n",
       "    }\n",
       "\n",
       "    .dataframe tbody tr th {\n",
       "        vertical-align: top;\n",
       "    }\n",
       "\n",
       "    .dataframe thead th {\n",
       "        text-align: right;\n",
       "    }\n",
       "</style>\n",
       "<table border=\"1\" class=\"dataframe\">\n",
       "  <thead>\n",
       "    <tr style=\"text-align: right;\">\n",
       "      <th></th>\n",
       "      <th>fixed acidity</th>\n",
       "      <th>volatile acidity</th>\n",
       "      <th>citric acid</th>\n",
       "      <th>residual sugar</th>\n",
       "      <th>chlorides</th>\n",
       "      <th>free sulfur dioxide</th>\n",
       "      <th>total sulfur dioxide</th>\n",
       "      <th>A Indx</th>\n",
       "      <th>density</th>\n",
       "      <th>pH</th>\n",
       "      <th>sulphates</th>\n",
       "      <th>Vit Indx</th>\n",
       "      <th>quality</th>\n",
       "      <th>Type</th>\n",
       "    </tr>\n",
       "  </thead>\n",
       "  <tbody>\n",
       "    <tr>\n",
       "      <th>0</th>\n",
       "      <td>5.9</td>\n",
       "      <td>0.320000</td>\n",
       "      <td>0.39</td>\n",
       "      <td>low</td>\n",
       "      <td>0.114</td>\n",
       "      <td>24.000000</td>\n",
       "      <td>140.0</td>\n",
       "      <td>13.905151</td>\n",
       "      <td>0.99340</td>\n",
       "      <td>3.090000</td>\n",
       "      <td>low</td>\n",
       "      <td>very_low</td>\n",
       "      <td>high</td>\n",
       "      <td>Lemon_Juice</td>\n",
       "    </tr>\n",
       "    <tr>\n",
       "      <th>1</th>\n",
       "      <td>7.8</td>\n",
       "      <td>0.240000</td>\n",
       "      <td>0.18</td>\n",
       "      <td>high</td>\n",
       "      <td>0.046</td>\n",
       "      <td>33.000000</td>\n",
       "      <td>160.0</td>\n",
       "      <td>17.130070</td>\n",
       "      <td>0.99630</td>\n",
       "      <td>3.200000</td>\n",
       "      <td>medium</td>\n",
       "      <td>low</td>\n",
       "      <td>high</td>\n",
       "      <td>Lemon_Juice</td>\n",
       "    </tr>\n",
       "    <tr>\n",
       "      <th>2</th>\n",
       "      <td>7.7</td>\n",
       "      <td>0.580000</td>\n",
       "      <td>0.01</td>\n",
       "      <td>very_low</td>\n",
       "      <td>0.088</td>\n",
       "      <td>12.000000</td>\n",
       "      <td>18.0</td>\n",
       "      <td>15.618966</td>\n",
       "      <td>0.99568</td>\n",
       "      <td>3.256431</td>\n",
       "      <td>medium</td>\n",
       "      <td>low</td>\n",
       "      <td>high</td>\n",
       "      <td>Orange_Juice</td>\n",
       "    </tr>\n",
       "    <tr>\n",
       "      <th>3</th>\n",
       "      <td>8.3</td>\n",
       "      <td>0.180000</td>\n",
       "      <td>0.30</td>\n",
       "      <td>very_low</td>\n",
       "      <td>0.033</td>\n",
       "      <td>20.000000</td>\n",
       "      <td>57.0</td>\n",
       "      <td>18.085322</td>\n",
       "      <td>0.99109</td>\n",
       "      <td>3.020000</td>\n",
       "      <td>medium</td>\n",
       "      <td>medium</td>\n",
       "      <td>high</td>\n",
       "      <td>Lemon_Juice</td>\n",
       "    </tr>\n",
       "    <tr>\n",
       "      <th>4</th>\n",
       "      <td>6.5</td>\n",
       "      <td>0.301384</td>\n",
       "      <td>0.31</td>\n",
       "      <td>very_low</td>\n",
       "      <td>0.044</td>\n",
       "      <td>33.682311</td>\n",
       "      <td>127.0</td>\n",
       "      <td>13.968160</td>\n",
       "      <td>0.99280</td>\n",
       "      <td>3.490000</td>\n",
       "      <td>low</td>\n",
       "      <td>low</td>\n",
       "      <td>high</td>\n",
       "      <td>Lemon_Juice</td>\n",
       "    </tr>\n",
       "  </tbody>\n",
       "</table>\n",
       "</div>"
      ],
      "text/plain": [
       "   fixed acidity  volatile acidity  citric acid residual sugar  chlorides  \\\n",
       "0            5.9          0.320000         0.39            low      0.114   \n",
       "1            7.8          0.240000         0.18           high      0.046   \n",
       "2            7.7          0.580000         0.01       very_low      0.088   \n",
       "3            8.3          0.180000         0.30       very_low      0.033   \n",
       "4            6.5          0.301384         0.31       very_low      0.044   \n",
       "\n",
       "   free sulfur dioxide  total sulfur dioxide     A Indx  density        pH  \\\n",
       "0            24.000000                 140.0  13.905151  0.99340  3.090000   \n",
       "1            33.000000                 160.0  17.130070  0.99630  3.200000   \n",
       "2            12.000000                  18.0  15.618966  0.99568  3.256431   \n",
       "3            20.000000                  57.0  18.085322  0.99109  3.020000   \n",
       "4            33.682311                 127.0  13.968160  0.99280  3.490000   \n",
       "\n",
       "  sulphates  Vit Indx quality          Type  \n",
       "0       low  very_low    high   Lemon_Juice  \n",
       "1    medium       low    high   Lemon_Juice  \n",
       "2    medium       low    high  Orange_Juice  \n",
       "3    medium    medium    high   Lemon_Juice  \n",
       "4       low       low    high   Lemon_Juice  "
      ]
     },
     "execution_count": 2,
     "metadata": {},
     "output_type": "execute_result"
    }
   ],
   "source": [
    "# Uncomment the following line if you don't have category_encoders package installed.\n",
    "df['sulphates'].fillna(df['sulphates'].mode()[0], inplace=True)\n",
    "\n",
    "# Filling null values using 'sulphates'\n",
    "df['pH'].fillna(df.groupby('sulphates')['pH'].transform('mean'), inplace=True)\n",
    "\n",
    "# Doing the same method for other columns which are needed for next parts:\n",
    "df['fixed acidity'].fillna(df.groupby('sulphates')['fixed acidity'].transform('mean'), inplace=True)\n",
    "df['citric acid'].fillna(df.groupby('sulphates')['citric acid'].transform('mean'), inplace=True)\n",
    "df['chlorides'].fillna(df.groupby('sulphates')['chlorides'].transform('mean'), inplace=True)\n",
    "df['volatile acidity'].fillna(df.groupby('sulphates')['volatile acidity'].transform('mean'), inplace=True)\n",
    "df['free sulfur dioxide'].fillna(df.groupby('sulphates')['free sulfur dioxide'].transform('mean'), inplace=True)\n",
    "df['total sulfur dioxide'].fillna(df.groupby('sulphates')['total sulfur dioxide'].transform('mean'), inplace=True)\n",
    "df['density'].fillna(df.groupby('sulphates')['density'].transform('mean'), inplace=True)\n",
    "# Replacing null values of Vit Indx with the column's mode:\n",
    "df['Vit Indx'].fillna(df['Vit Indx'].mode()[0], inplace=True)\n",
    "# Replacing 'residual sugar null values with its mode.\n",
    "df['residual sugar'].fillna(df['residual sugar'].mode()[0], inplace=True)\n",
    "dff = df.copy()\n",
    "df.head()"
   ]
  },
  {
   "cell_type": "code",
   "execution_count": 3,
   "metadata": {},
   "outputs": [],
   "source": [
    "# Because we want to add only 2 columns for each feature, least frequent value of categorical features is deleted.\n",
    "# Note: DO NOT run this block unless previous blocks have been run.\n",
    "df = df[df['Vit Indx'] != df['Vit Indx'].value_counts().index[-1]].copy()\n",
    "df = df[df['residual sugar'] != df['residual sugar'].value_counts().index[-1]].copy()"
   ]
  },
  {
   "cell_type": "code",
   "execution_count": 4,
   "metadata": {},
   "outputs": [
    {
     "data": {
      "text/html": [
       "<div>\n",
       "<style scoped>\n",
       "    .dataframe tbody tr th:only-of-type {\n",
       "        vertical-align: middle;\n",
       "    }\n",
       "\n",
       "    .dataframe tbody tr th {\n",
       "        vertical-align: top;\n",
       "    }\n",
       "\n",
       "    .dataframe thead th {\n",
       "        text-align: right;\n",
       "    }\n",
       "</style>\n",
       "<table border=\"1\" class=\"dataframe\">\n",
       "  <thead>\n",
       "    <tr style=\"text-align: right;\">\n",
       "      <th></th>\n",
       "      <th>fixed acidity</th>\n",
       "      <th>volatile acidity</th>\n",
       "      <th>citric acid</th>\n",
       "      <th>residual sugar</th>\n",
       "      <th>chlorides</th>\n",
       "      <th>free sulfur dioxide</th>\n",
       "      <th>total sulfur dioxide</th>\n",
       "      <th>A Indx</th>\n",
       "      <th>density</th>\n",
       "      <th>pH</th>\n",
       "      <th>...</th>\n",
       "      <th>vitco</th>\n",
       "      <th>resco</th>\n",
       "      <th>suco</th>\n",
       "      <th>vit_0</th>\n",
       "      <th>vit_1</th>\n",
       "      <th>residual_0</th>\n",
       "      <th>residual_1</th>\n",
       "      <th>sulphates_0</th>\n",
       "      <th>sulphates_1</th>\n",
       "      <th>target</th>\n",
       "    </tr>\n",
       "  </thead>\n",
       "  <tbody>\n",
       "    <tr>\n",
       "      <th>0</th>\n",
       "      <td>5.9</td>\n",
       "      <td>0.320000</td>\n",
       "      <td>0.39</td>\n",
       "      <td>low</td>\n",
       "      <td>0.114</td>\n",
       "      <td>24.000000</td>\n",
       "      <td>140.0</td>\n",
       "      <td>13.905151</td>\n",
       "      <td>0.99340</td>\n",
       "      <td>3.090000</td>\n",
       "      <td>...</td>\n",
       "      <td>0</td>\n",
       "      <td>1</td>\n",
       "      <td>0</td>\n",
       "      <td>0</td>\n",
       "      <td>0</td>\n",
       "      <td>1</td>\n",
       "      <td>0</td>\n",
       "      <td>0</td>\n",
       "      <td>0</td>\n",
       "      <td>1.0</td>\n",
       "    </tr>\n",
       "    <tr>\n",
       "      <th>1</th>\n",
       "      <td>7.8</td>\n",
       "      <td>0.240000</td>\n",
       "      <td>0.18</td>\n",
       "      <td>high</td>\n",
       "      <td>0.046</td>\n",
       "      <td>33.000000</td>\n",
       "      <td>160.0</td>\n",
       "      <td>17.130070</td>\n",
       "      <td>0.99630</td>\n",
       "      <td>3.200000</td>\n",
       "      <td>...</td>\n",
       "      <td>1</td>\n",
       "      <td>2</td>\n",
       "      <td>1</td>\n",
       "      <td>1</td>\n",
       "      <td>0</td>\n",
       "      <td>0</td>\n",
       "      <td>1</td>\n",
       "      <td>1</td>\n",
       "      <td>0</td>\n",
       "      <td>1.0</td>\n",
       "    </tr>\n",
       "    <tr>\n",
       "      <th>2</th>\n",
       "      <td>7.7</td>\n",
       "      <td>0.580000</td>\n",
       "      <td>0.01</td>\n",
       "      <td>very_low</td>\n",
       "      <td>0.088</td>\n",
       "      <td>12.000000</td>\n",
       "      <td>18.0</td>\n",
       "      <td>15.618966</td>\n",
       "      <td>0.99568</td>\n",
       "      <td>3.256431</td>\n",
       "      <td>...</td>\n",
       "      <td>1</td>\n",
       "      <td>0</td>\n",
       "      <td>1</td>\n",
       "      <td>1</td>\n",
       "      <td>0</td>\n",
       "      <td>0</td>\n",
       "      <td>0</td>\n",
       "      <td>1</td>\n",
       "      <td>0</td>\n",
       "      <td>1.0</td>\n",
       "    </tr>\n",
       "    <tr>\n",
       "      <th>3</th>\n",
       "      <td>8.3</td>\n",
       "      <td>0.180000</td>\n",
       "      <td>0.30</td>\n",
       "      <td>very_low</td>\n",
       "      <td>0.033</td>\n",
       "      <td>20.000000</td>\n",
       "      <td>57.0</td>\n",
       "      <td>18.085322</td>\n",
       "      <td>0.99109</td>\n",
       "      <td>3.020000</td>\n",
       "      <td>...</td>\n",
       "      <td>2</td>\n",
       "      <td>0</td>\n",
       "      <td>1</td>\n",
       "      <td>0</td>\n",
       "      <td>1</td>\n",
       "      <td>0</td>\n",
       "      <td>0</td>\n",
       "      <td>1</td>\n",
       "      <td>0</td>\n",
       "      <td>1.0</td>\n",
       "    </tr>\n",
       "    <tr>\n",
       "      <th>4</th>\n",
       "      <td>6.5</td>\n",
       "      <td>0.301384</td>\n",
       "      <td>0.31</td>\n",
       "      <td>very_low</td>\n",
       "      <td>0.044</td>\n",
       "      <td>33.682311</td>\n",
       "      <td>127.0</td>\n",
       "      <td>13.968160</td>\n",
       "      <td>0.99280</td>\n",
       "      <td>3.490000</td>\n",
       "      <td>...</td>\n",
       "      <td>1</td>\n",
       "      <td>0</td>\n",
       "      <td>0</td>\n",
       "      <td>1</td>\n",
       "      <td>0</td>\n",
       "      <td>0</td>\n",
       "      <td>0</td>\n",
       "      <td>0</td>\n",
       "      <td>0</td>\n",
       "      <td>1.0</td>\n",
       "    </tr>\n",
       "  </tbody>\n",
       "</table>\n",
       "<p>5 rows × 24 columns</p>\n",
       "</div>"
      ],
      "text/plain": [
       "   fixed acidity  volatile acidity  citric acid residual sugar  chlorides  \\\n",
       "0            5.9          0.320000         0.39            low      0.114   \n",
       "1            7.8          0.240000         0.18           high      0.046   \n",
       "2            7.7          0.580000         0.01       very_low      0.088   \n",
       "3            8.3          0.180000         0.30       very_low      0.033   \n",
       "4            6.5          0.301384         0.31       very_low      0.044   \n",
       "\n",
       "   free sulfur dioxide  total sulfur dioxide     A Indx  density        pH  \\\n",
       "0            24.000000                 140.0  13.905151  0.99340  3.090000   \n",
       "1            33.000000                 160.0  17.130070  0.99630  3.200000   \n",
       "2            12.000000                  18.0  15.618966  0.99568  3.256431   \n",
       "3            20.000000                  57.0  18.085322  0.99109  3.020000   \n",
       "4            33.682311                 127.0  13.968160  0.99280  3.490000   \n",
       "\n",
       "   ... vitco resco suco vit_0  vit_1  residual_0  residual_1  sulphates_0  \\\n",
       "0  ...     0     1    0     0      0           1           0            0   \n",
       "1  ...     1     2    1     1      0           0           1            1   \n",
       "2  ...     1     0    1     1      0           0           0            1   \n",
       "3  ...     2     0    1     0      1           0           0            1   \n",
       "4  ...     1     0    0     1      0           0           0            0   \n",
       "\n",
       "   sulphates_1  target  \n",
       "0            0     1.0  \n",
       "1            0     1.0  \n",
       "2            0     1.0  \n",
       "3            0     1.0  \n",
       "4            0     1.0  \n",
       "\n",
       "[5 rows x 24 columns]"
      ]
     },
     "execution_count": 4,
     "metadata": {},
     "output_type": "execute_result"
    }
   ],
   "source": [
    "mapdict = {\"very_low\":0, \"low\":1, \"medium\":2, \"high\":3}\n",
    "mapdict2 = {\"very_low\":0, \"low\":1, \"high\":2, \"very_high\":3}\n",
    "mapdict3 = {\"low\":0, \"medium\":1, \"high\":2, \"very_high\":3}\n",
    "mapdict4 = {0:0, 1:1, 2:0, 3:1}\n",
    "mapdict5 = {0:0, 1:0, 2:1, 3:1}\n",
    "df['vitco'] = df['Vit Indx'].map(mapdict)\n",
    "df['resco'] = df['residual sugar'].map(mapdict2)\n",
    "df['suco'] = df['sulphates'].map(mapdict3)\n",
    "df['vit_0'] = df['vitco'].map(mapdict4)\n",
    "df['vit_1'] =df['vitco'].map(mapdict5)\n",
    "df['residual_0'] = df['resco'].map(mapdict4)\n",
    "df['residual_1'] = df['resco'].map(mapdict5)\n",
    "df['sulphates_0'] = df['suco'].map(mapdict4)\n",
    "df['sulphates_1'] = df['suco'].map(mapdict5)\n",
    "df['target'] = df['quality'].map({\"high\":1, \"low\":0})\n",
    "df.head()"
   ]
  },
  {
   "cell_type": "markdown",
   "metadata": {
    "id": "5-K5fxW3LSgJ"
   },
   "source": [
    "Use Linear Regression to fill out nan values. \"A Indx\" feature is presumed as a Label and \"fixed acidity\", \"citric acid\" and \" chlorides\" are our features. You can use any of the mentioned features to estimate nan values in Label. "
   ]
  },
  {
   "cell_type": "markdown",
   "metadata": {},
   "source": [
    "<font color=\"orange\">\n",
    "    In order to determine the best features we could use two methods:\n",
    "    <br/>\n",
    "       1) Using correlation of features with the target variable.\n",
    "    <br/>\n",
    "        2) Using error of train/test \n",
    "    <br/>"
   ]
  },
  {
   "cell_type": "code",
   "execution_count": 5,
   "metadata": {},
   "outputs": [
    {
     "data": {
      "text/html": [
       "<div>\n",
       "<style scoped>\n",
       "    .dataframe tbody tr th:only-of-type {\n",
       "        vertical-align: middle;\n",
       "    }\n",
       "\n",
       "    .dataframe tbody tr th {\n",
       "        vertical-align: top;\n",
       "    }\n",
       "\n",
       "    .dataframe thead th {\n",
       "        text-align: right;\n",
       "    }\n",
       "</style>\n",
       "<table border=\"1\" class=\"dataframe\">\n",
       "  <thead>\n",
       "    <tr style=\"text-align: right;\">\n",
       "      <th></th>\n",
       "      <th>fixed acidity</th>\n",
       "      <th>citric acid</th>\n",
       "      <th>chlorides</th>\n",
       "      <th>A Indx</th>\n",
       "    </tr>\n",
       "  </thead>\n",
       "  <tbody>\n",
       "    <tr>\n",
       "      <th>fixed acidity</th>\n",
       "      <td>1.000000</td>\n",
       "      <td>0.303162</td>\n",
       "      <td>0.286245</td>\n",
       "      <td>0.957484</td>\n",
       "    </tr>\n",
       "    <tr>\n",
       "      <th>citric acid</th>\n",
       "      <td>0.303162</td>\n",
       "      <td>1.000000</td>\n",
       "      <td>0.044656</td>\n",
       "      <td>0.426600</td>\n",
       "    </tr>\n",
       "    <tr>\n",
       "      <th>chlorides</th>\n",
       "      <td>0.286245</td>\n",
       "      <td>0.044656</td>\n",
       "      <td>1.000000</td>\n",
       "      <td>0.290577</td>\n",
       "    </tr>\n",
       "    <tr>\n",
       "      <th>A Indx</th>\n",
       "      <td>0.957484</td>\n",
       "      <td>0.426600</td>\n",
       "      <td>0.290577</td>\n",
       "      <td>1.000000</td>\n",
       "    </tr>\n",
       "  </tbody>\n",
       "</table>\n",
       "</div>"
      ],
      "text/plain": [
       "               fixed acidity  citric acid  chlorides    A Indx\n",
       "fixed acidity       1.000000     0.303162   0.286245  0.957484\n",
       "citric acid         0.303162     1.000000   0.044656  0.426600\n",
       "chlorides           0.286245     0.044656   1.000000  0.290577\n",
       "A Indx              0.957484     0.426600   0.290577  1.000000"
      ]
     },
     "execution_count": 5,
     "metadata": {},
     "output_type": "execute_result"
    }
   ],
   "source": [
    "mask = df['A Indx'].isnull()\n",
    "df[['fixed acidity', 'citric acid', 'chlorides', 'A Indx']][~mask].corr()"
   ]
  },
  {
   "cell_type": "markdown",
   "metadata": {},
   "source": [
    "<font color=\"orange\">\n",
    "    Above results show that 'fixed acidity' is the best featuer to use (in sense of maximum correlation).\n",
    "    Thus we only use this feature to estimate null values of 'A Indx' and compare it to using all features.\n",
    "</font>"
   ]
  },
  {
   "cell_type": "code",
   "execution_count": 6,
   "metadata": {
    "id": "PIOPLYSGL8Lg"
   },
   "outputs": [
    {
     "name": "stdout",
     "output_type": "stream",
     "text": [
      "estimation mse using only 'fixed acidity':  0.7182681541547609\n",
      "estimation mse using all three features:  0.4954799305682378\n"
     ]
    }
   ],
   "source": [
    "from sklearn.linear_model import LinearRegression\n",
    "from sklearn.model_selection import train_test_split\n",
    "from sklearn.metrics import mean_squared_error as mse\n",
    "\n",
    "regressor = LinearRegression()\n",
    "X = df[['fixed acidity']][~mask]\n",
    "y = df[['A Indx']][~mask]\n",
    "X_train, X_test, y_train, y_test = train_test_split(X, y, test_size=0.2)\n",
    "y_pred = regressor.fit(X_train, y_train).predict(X_test)\n",
    "mse1 = mse(y_test, y_pred)\n",
    "\n",
    "X = df[['fixed acidity', 'citric acid', 'chlorides']][~mask]\n",
    "y = df[['A Indx']][~mask]\n",
    "X_train, X_test, y_train, y_test = train_test_split(X, y, test_size=0.2)\n",
    "y_pred = regressor.fit(X_train, y_train).predict(X_test)\n",
    "mse2 = mse(y_test, y_pred)\n",
    "print(\"estimation mse using only 'fixed acidity': \", mse1)\n",
    "print(\"estimation mse using all three features: \", mse2)\n",
    "\n",
    "mask = dff['A Indx'].isnull()\n",
    "X = dff[['fixed acidity', 'citric acid', 'chlorides']][mask]\n",
    "Y = regressor.fit(dff[['fixed acidity', 'citric acid', 'chlorides']][~mask], dff[['A Indx']][~mask]).predict(X)\n",
    "dff.loc[mask, 'A Indx'] = Y.reshape((-1,))"
   ]
  },
  {
   "cell_type": "markdown",
   "metadata": {},
   "source": [
    "<font color=\"orange\">\n",
    "    According to above results using all three featuers has a slightly better accuracy.\n",
    "</font>"
   ]
  },
  {
   "cell_type": "markdown",
   "metadata": {
    "id": "8Db4F3g0L4xJ"
   },
   "source": [
    "Use the categorial features like \"Vit Indx\" to estimate nan values in \" A Indx\" feature. "
   ]
  },
  {
   "cell_type": "markdown",
   "metadata": {},
   "source": [
    "<font color=\"orange\">\n",
    "    Why not 0,1,... coding? Because categorical varibles most of the time are nominal which means they don't have any order, but using 0,1,... implies oreder in the values which is okay for ordinal variables but not for nominal. Here since there is some order in our features very_low $<$ low $<$ medium $<$ ... it's okay to use 0,1,2,... encoding too.\n",
    "</font>"
   ]
  },
  {
   "cell_type": "code",
   "execution_count": 7,
   "metadata": {
    "id": "q_Ha0tmoM1iP"
   },
   "outputs": [
    {
     "name": "stdout",
     "output_type": "stream",
     "text": [
      "Estimating A Indx using Vit Indx mse:  8.124596634256005\n",
      "Estimating A Indx using residual sugar mse:  7.787676298522496\n",
      "Estimating A Indx using sulphates mse:  7.723569614860114\n",
      "Estimating A Indx using Vit Indx coded 0,1,2,3 mse:  8.118917944619195\n",
      "Estimating A Indx using residual sugar coded 0,1,2,3 mse:  8.191110320199437\n",
      "Estimating A Indx using sulphates coded 0,1,2,3 mse:  7.7071499703061805\n"
     ]
    }
   ],
   "source": [
    "from sklearn.linear_model import LinearRegression\n",
    "from sklearn.model_selection import train_test_split\n",
    "from sklearn.metrics import mean_squared_error as mse\n",
    "\n",
    "mask = df['A Indx'].isnull() \n",
    "iterations = 200\n",
    "lr = LinearRegression()\n",
    "s1 = 0\n",
    "s2 = 0\n",
    "s3 = 0\n",
    "s4 = 0\n",
    "s5 = 0\n",
    "s6 = 0\n",
    "for _ in range(iterations):\n",
    "    X_train, X_test, y_train, y_test = train_test_split(df[['vit_0', 'vit_1']][~mask], df['A Indx'][~mask], test_size=0.2)\n",
    "    y_pred = lr.fit(X_train, y_train).predict(X_test)\n",
    "    s1 += mse(y_test, y_pred)\n",
    "\n",
    "    X_train, X_test, y_train, y_test = train_test_split(df[['residual_0', 'residual_1']][~mask], df['A Indx'][~mask], test_size=0.2)\n",
    "    y_pred = lr.fit(X_train, y_train).predict(X_test)\n",
    "    s2 += mse(y_test, y_pred)\n",
    "\n",
    "    X_train, X_test, y_train, y_test = train_test_split(df[['sulphates_0', 'sulphates_1']][~mask], df['A Indx'][~mask], test_size=0.2)\n",
    "    y_pred = lr.fit(X_train, y_train).predict(X_test)\n",
    "    s3 += mse(y_test, y_pred)\n",
    "    \n",
    "    X_train, X_test, y_train, y_test = train_test_split(df[['vitco']][~mask], df['A Indx'][~mask], test_size=0.2)\n",
    "    y_pred = lr.fit(X_train, y_train).predict(X_test)\n",
    "    s4 += mse(y_test, y_pred)\n",
    "\n",
    "    X_train, X_test, y_train, y_test = train_test_split(df[['resco']][~mask], df['A Indx'][~mask], test_size=0.2)\n",
    "    y_pred = lr.fit(X_train, y_train).predict(X_test)\n",
    "    s5 += mse(y_test, y_pred)\n",
    "    \n",
    "    X_train, X_test, y_train, y_test = train_test_split(df[['suco']][~mask], df['A Indx'][~mask], test_size=0.2)\n",
    "    y_pred = lr.fit(X_train, y_train).predict(X_test)\n",
    "    s6 += mse(y_test, y_pred)\n",
    "print(\"Estimating A Indx using Vit Indx mse: \", s1/iterations)\n",
    "print(\"Estimating A Indx using residual sugar mse: \", s2/iterations)\n",
    "print(\"Estimating A Indx using sulphates mse: \", s3/iterations)\n",
    "print(\"Estimating A Indx using Vit Indx coded 0,1,2,3 mse: \", s4/iterations)\n",
    "print(\"Estimating A Indx using residual sugar coded 0,1,2,3 mse: \", s5/iterations)\n",
    "print(\"Estimating A Indx using sulphates coded 0,1,2,3 mse: \", s6/iterations)"
   ]
  },
  {
   "cell_type": "markdown",
   "metadata": {},
   "source": [
    "<font color=\"orange\">\n",
    "    Estimating A Indx using sulphates in binary has the smallest mse. But since adding too many features increases learning runtime let's continue with 0,1,2,... encodeing.\n",
    "</font>"
   ]
  },
  {
   "cell_type": "code",
   "execution_count": 8,
   "metadata": {},
   "outputs": [
    {
     "name": "stdout",
     "output_type": "stream",
     "text": [
      "<class 'pandas.core.frame.DataFrame'>\n",
      "Int64Index: 5870 entries, 0 to 6496\n",
      "Data columns (total 24 columns):\n",
      "fixed acidity           5870 non-null float64\n",
      "volatile acidity        5870 non-null float64\n",
      "citric acid             5870 non-null float64\n",
      "residual sugar          5870 non-null object\n",
      "chlorides               5870 non-null float64\n",
      "free sulfur dioxide     5870 non-null float64\n",
      "total sulfur dioxide    5870 non-null float64\n",
      "A Indx                  5870 non-null float64\n",
      "density                 5870 non-null float64\n",
      "pH                      5870 non-null float64\n",
      "sulphates               5870 non-null object\n",
      "Vit Indx                5870 non-null object\n",
      "quality                 5561 non-null object\n",
      "Type                    5577 non-null object\n",
      "vitco                   5870 non-null int64\n",
      "resco                   5870 non-null int64\n",
      "suco                    5870 non-null int64\n",
      "vit_0                   5870 non-null int64\n",
      "vit_1                   5870 non-null int64\n",
      "residual_0              5870 non-null int64\n",
      "residual_1              5870 non-null int64\n",
      "sulphates_0             5870 non-null int64\n",
      "sulphates_1             5870 non-null int64\n",
      "target                  5561 non-null float64\n",
      "dtypes: float64(10), int64(9), object(5)\n",
      "memory usage: 1.1+ MB\n"
     ]
    }
   ],
   "source": [
    "df.loc[mask, 'A Indx'] = lr.fit(df[['sulphates_0', 'sulphates_1']][~mask], df['A Indx'][~mask]).predict(\n",
    "                        df[['sulphates_0', 'sulphates_1']][mask])\n",
    "\n",
    "df.info()"
   ]
  },
  {
   "cell_type": "markdown",
   "metadata": {
    "id": "JJo5YZGeNDBi"
   },
   "source": [
    "## Part 2 Graphs and Stats"
   ]
  },
  {
   "cell_type": "code",
   "execution_count": 9,
   "metadata": {},
   "outputs": [
    {
     "name": "stdout",
     "output_type": "stream",
     "text": [
      "Statistics in groups: \n",
      "Mean:\n",
      "          fixed acidity  volatile acidity  citric acid  chlorides  \\\n",
      "quality                                                            \n",
      "high          7.161163          0.307501     0.327099   0.051190   \n",
      "low           7.326974          0.394783     0.303849   0.064101   \n",
      "\n",
      "         free sulfur dioxide  total sulfur dioxide     A Indx   density  \\\n",
      "quality                                                                   \n",
      "high               30.987060            113.975327  15.927231  0.994118   \n",
      "low                29.633194            118.528662  16.274342  0.995694   \n",
      "\n",
      "               pH  \n",
      "quality            \n",
      "high     3.219195  \n",
      "low      3.213540  \n",
      "\n",
      "\n",
      "\n",
      "Mode:\n",
      " 0        fixed acidity  volatile acidity  citric acid residual sugar  \\\n",
      "quality                                                                \n",
      "high               6.8              0.24         0.30       very_low   \n",
      "low                6.4              0.28         0.26       very_low   \n",
      "\n",
      "0        chlorides  free sulfur dioxide  total sulfur dioxide     A Indx  \\\n",
      "quality                                                                    \n",
      "high         0.036                 29.0            102.205617  16.355801   \n",
      "low          0.046                  6.0            128.904991   9.379334   \n",
      "\n",
      "0         density    pH sulphates Vit Indx quality         Type  \n",
      "quality                                                          \n",
      "high     0.994152  3.20       low      low    high  Lemon_Juice  \n",
      "low      0.994152  3.14       low      low     low  Lemon_Juice  \n",
      "\n",
      "\n",
      "\n",
      "Variance:\n",
      "          fixed acidity  volatile acidity  citric acid  chlorides  \\\n",
      "quality                                                            \n",
      "high          1.652543          0.018226     0.016414   0.000692   \n",
      "low           1.547969          0.033847     0.024809   0.001847   \n",
      "\n",
      "         free sulfur dioxide  total sulfur dioxide    A Indx   density  \\\n",
      "quality                                                                  \n",
      "high              257.467325           2709.490543  8.541103  0.000009   \n",
      "low               376.905658           3677.548835  8.057696  0.000006   \n",
      "\n",
      "               pH  \n",
      "quality            \n",
      "high     0.024475  \n",
      "low      0.024657  \n",
      "\n",
      "\n",
      "\n",
      "Median:\n",
      "          fixed acidity  volatile acidity  citric acid  chlorides  \\\n",
      "quality                                                            \n",
      "high          6.938268              0.28         0.32      0.045   \n",
      "low           7.100000              0.34         0.30      0.052   \n",
      "\n",
      "         free sulfur dioxide  total sulfur dioxide     A Indx   density    pH  \n",
      "quality                                                                        \n",
      "high               30.000000                 116.0  15.372332  0.994152  3.21  \n",
      "low                27.319339                 124.0  15.756326  0.995800  3.19  \n",
      "\n",
      "\n",
      "\n",
      "\n",
      "Statistics in total: \n",
      "Mean:\n",
      " fixed acidity             7.214505\n",
      "volatile acidity          0.339553\n",
      "citric acid               0.318524\n",
      "chlorides                 0.055995\n",
      "free sulfur dioxide      30.556971\n",
      "total sulfur dioxide    115.850169\n",
      "A Indx                   16.035702\n",
      "density                   0.994707\n",
      "pH                        3.217655\n",
      "dtype: float64\n",
      "\n",
      "\n",
      "\n",
      "Mode:\n",
      " fixed acidity                   6.8\n",
      "volatile acidity               0.28\n",
      "citric acid                     0.3\n",
      "residual sugar             very_low\n",
      "chlorides                     0.044\n",
      "free sulfur dioxide              29\n",
      "total sulfur dioxide        128.905\n",
      "A Indx                      16.3558\n",
      "density                    0.994152\n",
      "pH                             3.16\n",
      "sulphates                       low\n",
      "Vit Indx                        low\n",
      "quality                        high\n",
      "Type                    Lemon_Juice\n",
      "dtype: object\n",
      "\n",
      "\n",
      "\n",
      "Variance:\n",
      " fixed acidity              1.598412\n",
      "volatile acidity           0.025669\n",
      "citric acid                0.019701\n",
      "chlorides                  0.001185\n",
      "free sulfur dioxide      302.986494\n",
      "total sulfur dioxide    3066.290464\n",
      "A Indx                     8.279088\n",
      "density                    0.000009\n",
      "pH                         0.024558\n",
      "dtype: float64\n",
      "\n",
      "\n",
      "\n",
      "Median:\n",
      " fixed acidity             7.000000\n",
      "volatile acidity          0.300000\n",
      "citric acid               0.312585\n",
      "chlorides                 0.048000\n",
      "free sulfur dioxide      29.000000\n",
      "total sulfur dioxide    118.000000\n",
      "A Indx                   15.483421\n",
      "density                   0.994880\n",
      "pH                        3.200000\n",
      "dtype: float64\n"
     ]
    }
   ],
   "source": [
    "print(\"Statistics in groups: \")\n",
    "print(\"Mean:\\n\", dff.groupby('quality').mean())\n",
    "print(\"\\n\\n\\nMode:\\n\", dff.groupby('quality').apply(lambda x: x.mode().iloc[0]))\n",
    "print(\"\\n\\n\\nVariance:\\n\", dff.groupby('quality').var())\n",
    "print(\"\\n\\n\\nMedian:\\n\", dff.groupby('quality').median())\n",
    "print(\"\\n\\n\\n\\nStatistics in total: \")\n",
    "print(\"Mean:\\n\", dff.mean())\n",
    "print(\"\\n\\n\\nMode:\\n\", dff.apply(lambda x: x.mode().iloc[0]))\n",
    "print(\"\\n\\n\\nVariance:\\n\", dff.var())\n",
    "print(\"\\n\\n\\nMedian:\\n\", dff.median())"
   ]
  },
  {
   "cell_type": "markdown",
   "metadata": {},
   "source": [
    "<font color=\"orange\">\n",
    "Above results show:\n",
    "    High quality juice has smaller 'fixed acidity', 'volatile acidity', 'cholorides', 'total sulfur dioxide', 'A Indx' and 'density'. On the contrary it has greater 'citric acid', 'free sulfur dioxide' and 'pH'. Also note that mode of 'sulphate' and 'residual sugar' and 'Vit Indx' is the same for both qualities.\n",
    "</font>"
   ]
  },
  {
   "cell_type": "markdown",
   "metadata": {},
   "source": [
    "Plot Bar Graph for the \"sulphates\" feature for high and low quality juice."
   ]
  },
  {
   "cell_type": "code",
   "execution_count": 10,
   "metadata": {
    "id": "oQNshJSMNA8e"
   },
   "outputs": [
    {
     "data": {
      "text/plain": [
       "<Figure size 500x500 with 1 Axes>"
      ]
     },
     "metadata": {},
     "output_type": "display_data"
    }
   ],
   "source": [
    "import matplotlib.pyplot as plt\n",
    "import seaborn as sns\n",
    "\n",
    "mask = df['quality'].isnull()\n",
    "\n",
    "data = df[df.columns][~mask]\n",
    "# define axis and labels \n",
    "plt.figure(figsize=(5, 5))\n",
    "sns.countplot(x=\"sulphates\", hue=\"quality\", data=data)\n",
    "plt.title(\"Bar graph for the 'sulphates'\")\n",
    "plt.show()"
   ]
  },
  {
   "cell_type": "markdown",
   "metadata": {
    "id": "RDYG7tD2Nzg0"
   },
   "source": [
    "Plot Box plot for \"chlorides\" feature for 4 \"sulphates\" group of labels and two high and low quality juice. "
   ]
  },
  {
   "cell_type": "code",
   "execution_count": 11,
   "metadata": {
    "id": "al8f9adnOQiT"
   },
   "outputs": [
    {
     "data": {
      "image/png": "[encoded data removed]",
      "text/plain": [
       "<Figure size 360x360 with 1 Axes>"
      ]
     },
     "metadata": {
      "needs_background": "light"
     },
     "output_type": "display_data"
    },
    {
     "data": {
      "image/png": "[encoded data removed]",
      "text/plain": [
       "<Figure size 360x360 with 1 Axes>"
      ]
     },
     "metadata": {
      "needs_background": "light"
     },
     "output_type": "display_data"
    },
    {
     "data": {
      "image/png": "[encoded data removed]",
      "text/plain": [
       "<Figure size 360x360 with 1 Axes>"
      ]
     },
     "metadata": {
      "needs_background": "light"
     },
     "output_type": "display_data"
    },
    {
     "data": {
      "image/png": "[encoded data removed]",
      "text/plain": [
       "<Figure size 360x360 with 1 Axes>"
      ]
     },
     "metadata": {
      "needs_background": "light"
     },
     "output_type": "display_data"
    }
   ],
   "source": [
    "mask = df['quality'].isnull()\n",
    "low = df['sulphates'] == 'low'\n",
    "medium = df['sulphates'] == 'medium'\n",
    "high = df['sulphates'] == 'high'\n",
    "very_high = df['sulphates'] == 'very_high'\n",
    "\n",
    "# define axis and labels \n",
    "plt.figure(figsize=(5, 5))\n",
    "sns.boxplot(y=\"chlorides\", x=\"quality\", data=df[df.columns][low & ~mask])\n",
    "plt.title('Low sulphates')\n",
    "plt.figure(figsize=(5, 5))\n",
    "sns.boxplot(y=\"chlorides\", x=\"quality\", data=df[df.columns][medium & ~mask])\n",
    "plt.title('Medium sulphates')\n",
    "plt.figure(figsize=(5, 5))\n",
    "sns.boxplot(y=\"chlorides\", x=\"quality\", data=df[df.columns][high & ~mask])\n",
    "plt.title('High sulphates')\n",
    "plt.figure(figsize=(5, 5))\n",
    "sns.boxplot(y=\"chlorides\", x=\"quality\", data=df[df.columns][very_high & ~mask])\n",
    "plt.title('Very_high sulphates')\n",
    "plt.show()"
   ]
  },
  {
   "cell_type": "markdown",
   "metadata": {},
   "source": [
    "<font color=\"orange\">\n",
    "    It can be learned that chlorides measure does not differ for samples having low and medium sulphates. But it does for other samples. Second group also have greater variance.\n",
    "</font>"
   ]
  },
  {
   "cell_type": "markdown",
   "metadata": {
    "id": "Bn3LjJSGOsNE"
   },
   "source": [
    "Plot Histogram for \"free sulphor dioxide\" for hight and low quailty with the distinction of juice type. "
   ]
  },
  {
   "cell_type": "code",
   "execution_count": 12,
   "metadata": {
    "id": "QBchIMdjPNmC"
   },
   "outputs": [
    {
     "data": {
      "text/plain": [
       "<Figure size 432x288 with 0 Axes>"
      ]
     },
     "metadata": {},
     "output_type": "display_data"
    },
    {
     "data": {
      "image/png": "[encoded data removed]",
      "text/plain": [
       "<Figure size 504.825x288 with 2 Axes>"
      ]
     },
     "metadata": {
      "needs_background": "light"
     },
     "output_type": "display_data"
    },
    {
     "data": {
      "text/plain": [
       "<Figure size 720x720 with 0 Axes>"
      ]
     },
     "metadata": {},
     "output_type": "display_data"
    },
    {
     "data": {
      "image/png": "[encoded data removed]",
      "text/plain": [
       "<Figure size 403.2x288 with 2 Axes>"
      ]
     },
     "metadata": {
      "needs_background": "light"
     },
     "output_type": "display_data"
    },
    {
     "data": {
      "text/plain": [
       "<Figure size 720x720 with 0 Axes>"
      ]
     },
     "metadata": {},
     "output_type": "display_data"
    },
    {
     "data": {
      "image/png": "[encoded data removed]",
      "text/plain": [
       "<Figure size 403.2x288 with 2 Axes>"
      ]
     },
     "metadata": {
      "needs_background": "light"
     },
     "output_type": "display_data"
    }
   ],
   "source": [
    "mask = (df['quality'].isnull()) | (df['Type'].isnull())\n",
    "plt.figure()\n",
    "sns.displot(data=df[~mask], x=\"free sulfur dioxide\", hue=\"Type\", col=\"quality\",kind=\"hist\", height=4, aspect=.7)\n",
    "plt.figure(figsize=((10, 10)))\n",
    "sns.displot(data=df[~mask], x=\"free sulfur dioxide\", col=\"quality\",kind=\"hist\", height=4, aspect=.7)\n",
    "plt.figure(figsize=((10, 10)))\n",
    "sns.displot(data=df[~mask], x=\"free sulfur dioxide\", col=\"Type\",kind=\"hist\", height=4, aspect=.7)\n",
    "plt.show()"
   ]
  },
  {
   "cell_type": "markdown",
   "metadata": {
    "id": "BcpoqGkjPQw1"
   },
   "source": [
    "Plot heat map for the first 12 column. Compare the correlation between features. "
   ]
  },
  {
   "cell_type": "code",
   "execution_count": 13,
   "metadata": {
    "id": "XIhmQ1QEPnw2"
   },
   "outputs": [
    {
     "data": {
      "image/png": "[encoded data removed]",
      "text/plain": [
       "<Figure size 720x720 with 2 Axes>"
      ]
     },
     "metadata": {
      "needs_background": "light"
     },
     "output_type": "display_data"
    }
   ],
   "source": [
    "plt.figure(figsize=(10, 10))\n",
    "sns.heatmap(pd.concat((dff, df[['vitco', 'resco', 'suco']]), axis=1).corr(), annot=True);\n",
    "plt.title(\"Data Heatmap\")\n",
    "plt.show()\n",
    "# vitco: Vit Indx encoded in 0,1,2,..\n",
    "# resco: Residual Sugar .....\n",
    "# suco: Sulphates ....."
   ]
  },
  {
   "cell_type": "markdown",
   "metadata": {},
   "source": [
    "<font color=\"orange\">\n",
    "    Above results suggest we could omit A Indx or fixed acidity since their correlation is almost 1\n",
    "</font>"
   ]
  },
  {
   "cell_type": "code",
   "execution_count": 14,
   "metadata": {},
   "outputs": [],
   "source": [
    "# Here we split data into train(75%) and test(25%)\n",
    "from sklearn.model_selection import train_test_split\n",
    "mask = ~df['target'].isnull()\n",
    "X = df[df.columns[[0, 1, 2, 4, 5, 6, 7, 8, 9, 16, 17, 18, 19, 20, 21, 22]]][mask]\n",
    "y = df['target'][mask]\n",
    "X_train, X_test, y_train, y_test = train_test_split(X, y, test_size = 0.25, random_state = 1000)"
   ]
  },
  {
   "cell_type": "markdown",
   "metadata": {
    "id": "UeEoIYm8PwQh"
   },
   "source": [
    "## Part 3 AdaBoost\n",
    "Use a 5-fold cross validaiton to tune parameters. Utilize DecisionTreeClassifier for the base classifier.\n",
    " max_depth must be chosen from {1,3,5} and n_estimators are chosen from {10,50,100,200}. "
   ]
  },
  {
   "cell_type": "code",
   "execution_count": 15,
   "metadata": {
    "id": "PI18QLm3RWBZ"
   },
   "outputs": [
    {
     "name": "stdout",
     "output_type": "stream",
     "text": [
      "best params:\n",
      "n_estimators:  200\n",
      "max_depth:  5\n"
     ]
    }
   ],
   "source": [
    "from sklearn.ensemble import AdaBoostClassifier\n",
    "from sklearn.tree import DecisionTreeClassifier\n",
    "from sklearn.model_selection import cross_val_score\n",
    "\n",
    "def get_models():\n",
    "    # Defining parameters:\n",
    "    nTrees = [10, 50, 100, 200]\n",
    "    mDepth = [1, 3, 5]\n",
    "    # A dictionary for models with different params:\n",
    "    models = dict()\n",
    "    for n in nTrees:\n",
    "        for m in mDepth:\n",
    "            models[str(n) + '_' + str(m)] = AdaBoostClassifier(DecisionTreeClassifier(max_depth=m), n_estimators=n)\n",
    "    return models\n",
    "\n",
    "def model_evaluation(X, y, model):\n",
    "    \n",
    "    scores = cross_val_score(model, X, y, cv=5, scoring='accuracy')\n",
    "    return np.mean(scores)\n",
    "\n",
    "models = get_models()\n",
    "bestScore = 0\n",
    "bestModel = 0\n",
    "bestModelName = 0\n",
    "\n",
    "for name, model in models.items():\n",
    "    score = model_evaluation(X_train, y_train, model)\n",
    "    if score > bestScore:\n",
    "        bestScore = score\n",
    "        bestModel = model\n",
    "        bestModelName = name\n",
    "\n",
    "print(\"best params:\")\n",
    "print(\"n_estimators: \", bestModelName.split('_')[0])\n",
    "print(\"max_depth: \", bestModelName.split('_')[1])"
   ]
  },
  {
   "cell_type": "markdown",
   "metadata": {
    "id": "jS9oY2oWR4IS"
   },
   "source": [
    "Report F1 score, accuracy and Confusion matrix for the optimum paramters. "
   ]
  },
  {
   "cell_type": "code",
   "execution_count": 16,
   "metadata": {
    "id": "eZOSa4hYSBha"
   },
   "outputs": [
    {
     "name": "stdout",
     "output_type": "stream",
     "text": [
      "F1 Score:  0.8182323513062812\n",
      "Accuracy:  0.7649173256649893\n",
      "Confusion matrix: \n",
      " [[328 187]\n",
      " [140 736]]\n"
     ]
    }
   ],
   "source": [
    "from sklearn.metrics import f1_score\n",
    "from sklearn.metrics import accuracy_score\n",
    "from sklearn.metrics import confusion_matrix\n",
    "from sklearn.model_selection import cross_val_predict\n",
    "\n",
    "model = AdaBoostClassifier(DecisionTreeClassifier(max_depth=5), n_estimators=200)\n",
    "y_pred = model.fit(X_train, y_train).predict(X_test)\n",
    "print(\"F1 Score: \", f1_score(y_test, y_pred))\n",
    "print(\"Accuracy: \",accuracy_score(y_test, y_pred))\n",
    "print(\"Confusion matrix: \\n\", confusion_matrix(y_test, y_pred))"
   ]
  },
  {
   "cell_type": "markdown",
   "metadata": {
    "id": "ynPvtNCISmtv"
   },
   "source": [
    "Plot the two-class decision scores. Use the decision_function of you classifier. "
   ]
  },
  {
   "cell_type": "code",
   "execution_count": 17,
   "metadata": {
    "id": "y51hbvl8TJTZ"
   },
   "outputs": [
    {
     "data": {
      "image/png": "[encoded data removed]",
      "text/plain": [
       "<Figure size 360x360 with 1 Axes>"
      ]
     },
     "metadata": {
      "needs_background": "light"
     },
     "output_type": "display_data"
    }
   ],
   "source": [
    "import seaborn as sns\n",
    "a = model.decision_function(X_test)\n",
    "plt.figure(figsize=(5, 5))\n",
    "sns.histplot(x=a[y_pred == 1], label=\"High\")\n",
    "sns.histplot(x=a[y_pred == 0], color = \"orange\", label=\"Low\")\n",
    "plt.legend()\n",
    "plt.xlabel(\"score\")\n",
    "plt.show()"
   ]
  },
  {
   "cell_type": "markdown",
   "metadata": {
    "id": "g_VRj8NTQOkV"
   },
   "source": [
    "## Part 4 (SVM)\n",
    "In this part we are going to feed the preprocessed data (like previous parts) into a SVM classifier. Before that, let us try SVM on a toy dataset (2D), which illustrates two concentric circles, and draw its decision boundries. This is to get a better feeling of how SVM with a kernel function separates nonlinear data. Necessary libraries are imported below. Google them to find out how they are used.\n",
    "### Plotting Decision Boundries"
   ]
  },
  {
   "cell_type": "code",
   "execution_count": 18,
   "metadata": {
    "id": "U1q53XqGSCRm"
   },
   "outputs": [
    {
     "data": {
      "image/png": "[encoded data removed]",
      "text/plain": [
       "<Figure size 360x360 with 1 Axes>"
      ]
     },
     "metadata": {
      "needs_background": "light"
     },
     "output_type": "display_data"
    }
   ],
   "source": [
    "from sklearn.datasets.samples_generator import make_circles\n",
    "from mlxtend.plotting import plot_decision_regions\n",
    "import matplotlib.pyplot as plt\n",
    "import seaborn as sns\n",
    "from sklearn.svm import SVC\n",
    "# also add the rest of your imports here\n",
    "X, y = make_circles(1000)\n",
    "plt.figure(figsize=(5, 5))\n",
    "sns.scatterplot(x=X[:, 0], y=X[:, 1], hue=y)\n",
    "plt.show()"
   ]
  },
  {
   "cell_type": "code",
   "execution_count": 19,
   "metadata": {
    "id": "qgiFKDMTZlUI"
   },
   "outputs": [
    {
     "data": {
      "image/png": "[encoded data removed]",
      "text/plain": [
       "<Figure size 432x288 with 1 Axes>"
      ]
     },
     "metadata": {
      "needs_background": "light"
     },
     "output_type": "display_data"
    }
   ],
   "source": [
    "# SVM with Linear Kernel:\n",
    "X[0, 0] = 0.4 # Adding some outlier, removing this will lead to incorrect plot!\n",
    "svm = SVC(C=0.1, kernel='linear', gamma='auto')\n",
    "svm.fit(X, y)\n",
    "\n",
    "\n",
    "# Plotting decision regions\n",
    "plot_decision_regions(X=X, y=y, clf=svm, legend=2)\n",
    "plt.xlabel('x1')\n",
    "plt.ylabel('x2')\n",
    "plt.title('SVM with linear kernel')\n",
    "plt.show()"
   ]
  },
  {
   "cell_type": "code",
   "execution_count": 20,
   "metadata": {
    "id": "aFWzNUNtZq99"
   },
   "outputs": [
    {
     "data": {
      "image/png": "[encoded data removed]",
      "text/plain": [
       "<Figure size 432x288 with 1 Axes>"
      ]
     },
     "metadata": {
      "needs_background": "light"
     },
     "output_type": "display_data"
    }
   ],
   "source": [
    "# SVM with RBF Kernel:\n",
    "svm = SVC(C=0.5, kernel='rbf', gamma='scale')\n",
    "svm.fit(X, y)\n",
    "\n",
    "\n",
    "# Plotting decision regions\n",
    "plot_decision_regions(X, y, clf=svm, legend=2)\n",
    "plt.xlabel('x1')\n",
    "plt.ylabel('x2')\n",
    "plt.title('SVM with rbf kernel')\n",
    "plt.show()"
   ]
  },
  {
   "cell_type": "markdown",
   "metadata": {
    "id": "FZ2SRwB_Rsaa"
   },
   "source": [
    "### Hyperparameter Tuning\n",
    "There are a wide variety of kernel functions like linear, poly, rbf, and sigmoid. Besides, we need to decide what the value of C (regularization parameter in soft-margin SVM) should be. In case of rbf, there is yet another parameter $\\gamma$ that needs to be determined. \n",
    "\n",
    "$$Kernel Function \\in \\{linear, poly, rbf, sigmoid\\}$$\n",
    "\n",
    "$$C \\in \\{0.1, 1, 10, 100, 1000, 10000\\}$$\n",
    "\n",
    "$$\\gamma \\in \\{0.001, 0.01, 0.1\\}$$\n",
    "\n",
    "Write a function (however you wish) to try all possible combinations (36 overall). Sort them based on their $F_1$ Score, and print them similar to the line below:\n",
    "\n",
    "Print: #(rank), Classifier, $F_1$ Score, Accuracy, Precision, C, $\\gamma$ (empty or NAN if not applicable)<br><br>\n",
    "Draw the confusion matrix only for the best classifier. \n",
    "Please also note that 5-fold cross-validation must be used to estimate the scores.\n"
   ]
  },
  {
   "cell_type": "code",
   "execution_count": 21,
   "metadata": {},
   "outputs": [],
   "source": [
    "from sklearn.model_selection import train_test_split\n",
    "dfff = dff.copy()\n",
    "mapping = {'very_low':0, 'low':1, 'medium':2, 'high':3, 'very_high':4}\n",
    "dfff['Vit Indx'] = dfff['Vit Indx'].map(mapping)\n",
    "dfff['residual sugar'] = dfff['residual sugar'].map(mapping)\n",
    "dfff['sulphates'] = dfff['sulphates'].map(mapping)\n",
    "dfff['quality'] = dfff['quality'].map({'high':1.0, 'low':0.0})\n",
    "mask = ~dfff['quality'].isnull()\n",
    "X = dfff[dfff.columns[1:12]][mask]\n",
    "y = dfff['quality'][mask]"
   ]
  },
  {
   "cell_type": "code",
   "execution_count": 22,
   "metadata": {
    "id": "J2rxOBPIQJ7U"
   },
   "outputs": [],
   "source": [
    "from sklearn.svm import SVC\n",
    "from sklearn.model_selection import cross_val_predict\n",
    "from sklearn.metrics import f1_score\n",
    "from sklearn.metrics import accuracy_score\n",
    "from sklearn.metrics import precision_score\n",
    "\n",
    "C = [0.1 , 1]\n",
    "\n",
    "d = pd.DataFrame(data=np.zeros((8, 6)), columns=[\"Classifier\", \"F1_Score\", \"Accuracy\", \"Precision\", \"C\", \"gamma\"])\n",
    "i = 0\n",
    "# 'linear':\n",
    "for c in C:\n",
    "    model = SVC(kernel='linear', C = c)\n",
    "    y_pred = cross_val_predict(model, X, y, cv=5)\n",
    "    d.loc[i] = ['Linear', f1_score(y, y_pred), accuracy_score(y, y_pred), \n",
    "               precision_score(y, y_pred), c, np.nan]\n",
    "    i += 1"
   ]
  },
  {
   "cell_type": "code",
   "execution_count": 23,
   "metadata": {},
   "outputs": [],
   "source": [
    "i = 2\n",
    "# 'poly':\n",
    "for c in C:\n",
    "    model = SVC(kernel='poly', C = c, gamma='scale', degree=3)\n",
    "    y_pred = cross_val_predict(model, X, y, cv=5)\n",
    "    d.loc[i] = ['poly', f1_score(y, y_pred), accuracy_score(y, y_pred), \n",
    "                precision_score(y, y_pred), c, 'scale']\n",
    "    i += 1"
   ]
  },
  {
   "cell_type": "code",
   "execution_count": 24,
   "metadata": {},
   "outputs": [],
   "source": [
    "i = 4\n",
    "# 'rbf':\n",
    "for c in C:\n",
    "    model = SVC(kernel='rbf', C = c, gamma=0.01)\n",
    "    y_pred = cross_val_predict(model, X, y, cv=5)\n",
    "    d.loc[i] = ['rbf', f1_score(y, y_pred), accuracy_score(y, y_pred), \n",
    "               precision_score(y, y_pred), c, 0.01]\n",
    "    i += 1"
   ]
  },
  {
   "cell_type": "code",
   "execution_count": 25,
   "metadata": {},
   "outputs": [],
   "source": [
    "i = 6\n",
    "# 'sigmoid':\n",
    "for c in C:\n",
    "    model = SVC(kernel='sigmoid', C = c, gamma='scale')\n",
    "    y_pred = cross_val_predict(model, X, y, cv=5)\n",
    "    d.loc[i] = ['sigmoid', f1_score(y, y_pred), accuracy_score(y, y_pred), \n",
    "               precision_score(y, y_pred), c, 'scale']\n",
    "    i += 1"
   ]
  },
  {
   "cell_type": "code",
   "execution_count": 26,
   "metadata": {},
   "outputs": [
    {
     "data": {
      "text/html": [
       "<div>\n",
       "<style scoped>\n",
       "    .dataframe tbody tr th:only-of-type {\n",
       "        vertical-align: middle;\n",
       "    }\n",
       "\n",
       "    .dataframe tbody tr th {\n",
       "        vertical-align: top;\n",
       "    }\n",
       "\n",
       "    .dataframe thead th {\n",
       "        text-align: right;\n",
       "    }\n",
       "</style>\n",
       "<table border=\"1\" class=\"dataframe\">\n",
       "  <thead>\n",
       "    <tr style=\"text-align: right;\">\n",
       "      <th></th>\n",
       "      <th>Classifier</th>\n",
       "      <th>F1_Score</th>\n",
       "      <th>Accuracy</th>\n",
       "      <th>Precision</th>\n",
       "      <th>C</th>\n",
       "      <th>gamma</th>\n",
       "    </tr>\n",
       "  </thead>\n",
       "  <tbody>\n",
       "    <tr>\n",
       "      <th>0</th>\n",
       "      <td>Linear</td>\n",
       "      <td>0.791025</td>\n",
       "      <td>0.711201</td>\n",
       "      <td>0.731003</td>\n",
       "      <td>0.1</td>\n",
       "      <td>NaN</td>\n",
       "    </tr>\n",
       "    <tr>\n",
       "      <th>1</th>\n",
       "      <td>Linear</td>\n",
       "      <td>0.790265</td>\n",
       "      <td>0.714610</td>\n",
       "      <td>0.740112</td>\n",
       "      <td>1.0</td>\n",
       "      <td>NaN</td>\n",
       "    </tr>\n",
       "    <tr>\n",
       "      <th>3</th>\n",
       "      <td>poly</td>\n",
       "      <td>0.776508</td>\n",
       "      <td>0.634903</td>\n",
       "      <td>0.634665</td>\n",
       "      <td>1.0</td>\n",
       "      <td>scale</td>\n",
       "    </tr>\n",
       "    <tr>\n",
       "      <th>2</th>\n",
       "      <td>poly</td>\n",
       "      <td>0.776277</td>\n",
       "      <td>0.634416</td>\n",
       "      <td>0.634356</td>\n",
       "      <td>0.1</td>\n",
       "      <td>scale</td>\n",
       "    </tr>\n",
       "    <tr>\n",
       "      <th>4</th>\n",
       "      <td>rbf</td>\n",
       "      <td>0.775301</td>\n",
       "      <td>0.636688</td>\n",
       "      <td>0.637866</td>\n",
       "      <td>0.1</td>\n",
       "      <td>0.01</td>\n",
       "    </tr>\n",
       "    <tr>\n",
       "      <th>5</th>\n",
       "      <td>rbf</td>\n",
       "      <td>0.772133</td>\n",
       "      <td>0.674513</td>\n",
       "      <td>0.694399</td>\n",
       "      <td>1.0</td>\n",
       "      <td>0.01</td>\n",
       "    </tr>\n",
       "    <tr>\n",
       "      <th>6</th>\n",
       "      <td>sigmoid</td>\n",
       "      <td>0.674751</td>\n",
       "      <td>0.581981</td>\n",
       "      <td>0.666085</td>\n",
       "      <td>0.1</td>\n",
       "      <td>scale</td>\n",
       "    </tr>\n",
       "    <tr>\n",
       "      <th>7</th>\n",
       "      <td>sigmoid</td>\n",
       "      <td>0.666411</td>\n",
       "      <td>0.576623</td>\n",
       "      <td>0.666070</td>\n",
       "      <td>1.0</td>\n",
       "      <td>scale</td>\n",
       "    </tr>\n",
       "  </tbody>\n",
       "</table>\n",
       "</div>"
      ],
      "text/plain": [
       "  Classifier  F1_Score  Accuracy  Precision    C  gamma\n",
       "0     Linear  0.791025  0.711201   0.731003  0.1    NaN\n",
       "1     Linear  0.790265  0.714610   0.740112  1.0    NaN\n",
       "3       poly  0.776508  0.634903   0.634665  1.0  scale\n",
       "2       poly  0.776277  0.634416   0.634356  0.1  scale\n",
       "4        rbf  0.775301  0.636688   0.637866  0.1   0.01\n",
       "5        rbf  0.772133  0.674513   0.694399  1.0   0.01\n",
       "6    sigmoid  0.674751  0.581981   0.666085  0.1  scale\n",
       "7    sigmoid  0.666411  0.576623   0.666070  1.0  scale"
      ]
     },
     "execution_count": 26,
     "metadata": {},
     "output_type": "execute_result"
    }
   ],
   "source": [
    "d.sort_values(by=\"F1_Score\", ascending=False, inplace=True)\n",
    "d"
   ]
  },
  {
   "cell_type": "code",
   "execution_count": 27,
   "metadata": {},
   "outputs": [
    {
     "data": {
      "text/plain": [
       "array([[1014, 1239],\n",
       "       [ 540, 3367]], dtype=int64)"
      ]
     },
     "execution_count": 27,
     "metadata": {},
     "output_type": "execute_result"
    }
   ],
   "source": [
    "from sklearn.metrics import confusion_matrix\n",
    "model = SVC(kernel='linear', C = 0.1)\n",
    "y_pred = cross_val_predict(model, X, y, cv=5)\n",
    "confusion_matrix(y, y_pred)"
   ]
  },
  {
   "cell_type": "markdown",
   "metadata": {
    "id": "kwwMttHIgk7Y"
   },
   "source": [
    "### Hard Voting Classifiers\n",
    "\n",
    "Briefly explain what hard voting (aka majority voting) is. Then perform this classification using Logistic Regression, Decision Trees, and SVM. For more information, visit:\n",
    "\n",
    "https://scikit-learn.org/stable/modules/generated/sklearn.ensemble.VotingClassifier.html"
   ]
  },
  {
   "cell_type": "markdown",
   "metadata": {},
   "source": [
    "<font color=\"orange\">\n",
    "    When we have equally well performing models we combine their results to cover each model's weaknesses. Assume we have three classifiers and their output for a sample is:\n",
    "    <br />\n",
    "    classifier1: class 1\n",
    "    <br />\n",
    "    classifier2: class 1\n",
    "    <br />\n",
    "    classifier3: class 2\n",
    "    <br />\n",
    "Since the class 1 is the majority we'll output 1 as the final output.\n",
    "</font>"
   ]
  },
  {
   "cell_type": "code",
   "execution_count": 28,
   "metadata": {
    "id": "8aSTSqFhhFl8"
   },
   "outputs": [
    {
     "name": "stdout",
     "output_type": "stream",
     "text": [
      "LR F1 Score:  0.7860815496831282\n",
      "DTree F1 Score:  0.7734092084842215\n",
      "rbf F1 Score:  0.7753012048192771\n",
      "VotingClassifier F1 Score:  0.7990783410138248\n"
     ]
    }
   ],
   "source": [
    "from sklearn.ensemble import VotingClassifier\n",
    "from sklearn.linear_model import LogisticRegression\n",
    "from sklearn.tree import DecisionTreeClassifier\n",
    "from sklearn.svm import SVC\n",
    "\n",
    "clf1 = LogisticRegression(random_state=1, solver='lbfgs', max_iter=2000)\n",
    "clf2 = DecisionTreeClassifier(random_state=0, max_depth=5)\n",
    "clf3 = SVC(kernel='rbf', C=0.1, gamma=0.01)\n",
    "eclf = VotingClassifier(\n",
    "         estimators=[('lr', clf1), ('dt', clf2), ('rbf', clf3)],\n",
    "         voting='hard')\n",
    "y_pred1 = cross_val_predict(clf1, X, y, cv=5)\n",
    "y_pred2 = cross_val_predict(clf2, X, y, cv=5)\n",
    "y_pred3 = cross_val_predict(clf3, X, y, cv=5)\n",
    "y_pred4 = cross_val_predict(eclf, X, y, cv=5)\n",
    "print(\"LR F1 Score: \", f1_score(y, y_pred1))\n",
    "print(\"DTree F1 Score: \", f1_score(y, y_pred2))\n",
    "print(\"rbf F1 Score: \", f1_score(y, y_pred3))\n",
    "print(\"VotingClassifier F1 Score: \", f1_score(y, y_pred4))"
   ]
  },
  {
   "cell_type": "markdown",
   "metadata": {
    "id": "BeVslIjXh40h"
   },
   "source": [
    "<font color=\"orange\">\n",
    "    Above results show that VotingClassifier has a better F1 score(at least for our case)\n",
    "</font>"
   ]
  },
  {
   "cell_type": "markdown",
   "metadata": {
    "id": "Sc6tvaCskT7A"
   },
   "source": [
    "### Convex Optimization\n",
    "\n",
    "We are going to very briefly and easily look at how we go about solving optimization problems that we encounter when solving SVM. Here we use the same quadratic programming (use solvers.qp()) present in the theory problem set 3. Verify your theoretical solutions with Python code.\n",
    "\n",
    "https://cvxopt.org/\n"
   ]
  },
  {
   "cell_type": "markdown",
   "metadata": {
    "id": "I1w0opq_lhrJ"
   },
   "source": [
    "$$min\\hspace{3mm} J = (x_1-6)^2+(x_2-6)^2$$\n",
    "\n",
    "$$s.\\hspace{1mm} to \\hspace{3mm}2 x_1+4 x_2 \\leq 28$$\n",
    "\n",
    "$$5 x_1 + 5 x_2 \\leq 50$$\n",
    "\n",
    "$$x_1 \\leq 8$$\n",
    "\n",
    "$$x_2 \\leq 6$$\n",
    "\n",
    "$$x_1 \\geq 0$$\n",
    "\n",
    "$$x_2 \\geq 0$$"
   ]
  },
  {
   "cell_type": "markdown",
   "metadata": {},
   "source": [
    "<div>\n",
    "<font color=\"orange\">\n",
    "    First let's standardize equation in form of a QP:\n",
    "    $$min\\hspace{3mm} \\frac{1}{2}x^TPx+q^Tx$$\n",
    "    $$s.\\hspace{1mm} to \\hspace{3mm} Gx \\leq h$$\n",
    "    $$Ax = b$$\n",
    "    <br />\n",
    "    Expanding $J$ yields:\n",
    "    $$J = x_1^2 + x_2^2 - 12x_1 - 12x_2 + 72$$\n",
    "    Ignoring the constant, we have:\n",
    "    $$J = x_1^2 + x_2^2 - 12x_1 - 12x_2$$\n",
    "    And thus:\n",
    "    $$\n",
    "P = \n",
    "\\begin{bmatrix} \n",
    "2 & 0  \\\\\n",
    "0 & 2 \\\\\n",
    "\\end{bmatrix}\n",
    "\\quad\n",
    "$$\n",
    "<br />\n",
    "$$\n",
    "q = \n",
    "\\begin{bmatrix} \n",
    "-12\\\\\n",
    "-12\\\\\n",
    "\\end{bmatrix}\n",
    "\\quad\n",
    "$$\n",
    "<br />\n",
    "$$\n",
    "G = \n",
    "\\begin{bmatrix}\n",
    "5&5\\\\\n",
    "1&0\\\\\n",
    "0&1\\\\\n",
    "-1&0\\\\\n",
    "0&-1\\\\\n",
    "\\end{bmatrix}\n",
    "\\quad\n",
    "$$\n",
    "<br />\n",
    "$$\n",
    "h = \n",
    "\\begin{bmatrix}\n",
    "50\\\\\n",
    "8\\\\\n",
    "6\\\\\n",
    "0\\\\\n",
    "0\\\\\n",
    "\\end{bmatrix}\n",
    "\\quad\n",
    "$$\n",
    "</font>\n",
    "</div>"
   ]
  },
  {
   "cell_type": "code",
   "execution_count": 29,
   "metadata": {
    "id": "A74s9Cupljgc"
   },
   "outputs": [
    {
     "name": "stdout",
     "output_type": "stream",
     "text": [
      "     pcost       dcost       gap    pres   dres\n",
      " 0: -6.9364e+01 -9.8457e+01  7e+01  7e-02  4e+00\n",
      " 1: -6.8205e+01 -7.5087e+01  7e+00  3e-03  2e-01\n",
      " 2: -6.8712e+01 -6.8986e+01  3e-01  6e-05  4e-03\n",
      " 3: -6.8799e+01 -6.8802e+01  3e-03  7e-07  4e-05\n",
      " 4: -6.8800e+01 -6.8800e+01  3e-05  7e-09  4e-07\n",
      " 5: -6.8800e+01 -6.8800e+01  3e-07  7e-11  4e-09\n",
      "Optimal solution found.\n",
      "\n",
      "Optimal solution:\n",
      " [ 5.20e+00]\n",
      "[ 4.40e+00]\n",
      "\n",
      "min J =  3.200000087541364\n"
     ]
    }
   ],
   "source": [
    "from cvxopt import matrix, solvers\n",
    "P = matrix(np.array([[2, 0], [0, 2]]).astype('float'))\n",
    "q = matrix(np.array([-12, -12]).astype('float'), (2, 1))\n",
    "G = matrix(np.array([2, 5, 1, 0, -1, 0, 4, 5, 0, 1, 0, -1]).astype('float'), (6, 2))\n",
    "h = matrix(np.array([28, 50, 8, 6, 0, 0]).astype('float'), (6, 1))\n",
    "sol=solvers.qp(P, q, G, h)\n",
    "print(\"\\nOptimal solution:\\n\", sol['x'])\n",
    "print(\"min J = \", (sol['x'][0] - 6)**2 + (sol['x'][1]-6)**2)"
   ]
  },
  {
   "cell_type": "markdown",
   "metadata": {
    "id": "tPqb23XElkDz"
   },
   "source": [
    "$$min\\hspace{3mm} J = x_2^2$$\n",
    "\n",
    "$$s.\\hspace{1mm} to \\hspace{3mm}x_1+x_2 \\leq 10$$\n",
    "\n",
    "$$x_1 \\geq 0$$\n",
    "\n",
    "$$x_1 \\leq 5$$"
   ]
  },
  {
   "cell_type": "markdown",
   "metadata": {},
   "source": [
    "<div>\n",
    "<font color=\"orange\">\n",
    "$$\n",
    "P = \n",
    "\\begin{bmatrix} \n",
    "0 & 0  \\\\\n",
    "0 & 2 \\\\\n",
    "\\end{bmatrix}\n",
    "\\quad\n",
    "$$\n",
    "<br />\n",
    "$$\n",
    "q = \n",
    "\\begin{bmatrix} \n",
    "0\\\\\n",
    "0\\\\\n",
    "\\end{bmatrix}\n",
    "\\quad\n",
    "$$\n",
    "<br />\n",
    "$$\n",
    "G = \n",
    "\\begin{bmatrix}\n",
    "1&1\\\\\n",
    "-1&0\\\\\n",
    "1&0\\\\\n",
    "\\end{bmatrix}\n",
    "\\quad\n",
    "$$\n",
    "<br />\n",
    "$$\n",
    "h = \n",
    "\\begin{bmatrix}\n",
    "10\\\\\n",
    "0\\\\\n",
    "5\\\\\n",
    "\\end{bmatrix}\n",
    "\\quad\n",
    "$$\n",
    "</font>\n",
    "</div>"
   ]
  },
  {
   "cell_type": "code",
   "execution_count": 30,
   "metadata": {},
   "outputs": [
    {
     "name": "stdout",
     "output_type": "stream",
     "text": [
      "     pcost       dcost       gap    pres   dres\n",
      " 0:  3.5156e+00 -9.9219e+00  1e+01  0e+00  8e+00\n",
      " 1:  3.2006e-05 -8.9857e-01  9e-01  2e-16  2e-01\n",
      " 2:  3.2562e-09 -8.9932e-03  9e-03  2e-16  2e-03\n",
      " 3:  3.2562e-13 -8.9932e-05  9e-05  2e-16  2e-05\n",
      " 4:  3.2562e-17 -8.9932e-07  9e-07  1e-16  2e-07\n",
      " 5:  3.2562e-21 -8.9932e-09  9e-09  8e-17  2e-09\n",
      "Optimal solution found.\n",
      "\n",
      "Optimal solution:\n",
      " [ 4.43e+00]\n",
      "[ 5.71e-11]\n",
      "\n",
      "min J =  3.256185311707637e-21\n"
     ]
    }
   ],
   "source": [
    "from cvxopt import matrix, solvers\n",
    "P = matrix(np.array([[0, 0], [0, 2]]).astype('float'))\n",
    "q = matrix(np.array([0, 0]).astype('float'), (2, 1))\n",
    "G = matrix(np.array([1, -1, 1, 1, 0, 0]).astype('float'), (3, 2))\n",
    "h = matrix(np.array([10, 0, 5]).astype('float'), (3, 1))\n",
    "sol=solvers.qp(P, q, G, h)\n",
    "print(\"\\nOptimal solution:\\n\", sol['x'])\n",
    "print(\"min J = \", sol['x'][1]**2)"
   ]
  },
  {
   "cell_type": "markdown",
   "metadata": {
    "id": "MXImzatKh5mA"
   },
   "source": [
    "Thank you!\n",
    "\n",
    "![alt text](https://drive.google.com/uc?export=view&id=1Sgj1xm4M9fkcxA7nRYU_TNB1qjzgQD-T)"
   ]
  }
 ],
 "metadata": {
  "colab": {
   "name": "Copy of HW3_Part4.ipynb",
   "provenance": []
  },
  "kernelspec": {
   "display_name": "Python 3",
   "language": "python",
   "name": "python3"
  },
  "language_info": {
   "codemirror_mode": {
    "name": "ipython",
    "version": 3
   },
   "file_extension": ".py",
   "mimetype": "text/x-python",
   "name": "python",
   "nbconvert_exporter": "python",
   "pygments_lexer": "ipython3",
   "version": "3.7.3"
  },
  "toc": {
   "base_numbering": 1,
   "nav_menu": {},
   "number_sections": true,
   "sideBar": true,
   "skip_h1_title": false,
   "title_cell": "Table of Contents",
   "title_sidebar": "Contents",
   "toc_cell": true,
   "toc_position": {},
   "toc_section_display": true,
   "toc_window_display": true
  }
 },
 "nbformat": 4,
 "nbformat_minor": 4
}
